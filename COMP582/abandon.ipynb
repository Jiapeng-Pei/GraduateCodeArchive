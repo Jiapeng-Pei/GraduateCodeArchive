{
 "cells": [
  {
   "cell_type": "code",
   "execution_count": 8,
   "metadata": {},
   "outputs": [
    {
     "name": "stdout",
     "output_type": "stream",
     "text": [
      "3\n"
     ]
    }
   ],
   "source": [
    "def findTarget(nums, target):\n",
    "    left = 0\n",
    "    right = len(nums) - 1\n",
    "    while (left < right):\n",
    "        mid = left + (right - left) // 2;\n",
    "        midVal = 0;\n",
    "        # same side\n",
    "        if (nums[left] < nums[right]):\n",
    "            midVal = nums[mid]\n",
    "        else:\n",
    "            # same side\n",
    "            if ((nums[mid] >= nums[left]) == (target >= nums[mid])):\n",
    "                midVal = nums[mid]\n",
    "            # mid on the left side, and target on the right side\n",
    "            elif (nums[mid] >= nums[left]):\n",
    "                midVal = -1000000000000\n",
    "            # mid on the right, and target on the left\n",
    "            else: \n",
    "                midVal = 1000000000000\n",
    "        \n",
    "        if (midVal < target): \n",
    "            left = mid + 1\n",
    "        else:\n",
    "            right = mid\n",
    "            \n",
    "    return left \n",
    "\n",
    "print(findTarget([5, 8, 9, 1, 3, 4], 1))"
   ]
  },
  {
   "cell_type": "markdown",
   "metadata": {},
   "source": [
    "1. Proof Sketch\n",
    "- We notice that this isn't a normal sorted array, so I cannot perform normal binary search(BS). If I can treat this array as a sorted array, I could use BS. In the following section, I will prove that It is possible to perform BS on this array.\n",
    "\n",
    "- Suppose we have a array called **nums**, There are two \"sides\" of this array since it is rotated. The left side is bigger and the right side is smaller. Both sides are ascending. I am going to prove it is possible to perform BS on this rotated array. Following are the cases:\n",
    "\n",
    "    1. The **left** and **right** pointers are on the same side. This situation is the same as a normal BS.\n",
    "\n",
    "    2. The **left** and **right** pointers are on different sides. There are 2 sub cases:\n",
    "\t    1. **mid** pointer and **target** value are on the same side. Same as normal BS.\n",
    "\t\t\n",
    "\t    2. **mid** pointer and **target** value are on different sides. \n",
    "        \n",
    "\t\t    If **mid** pointer are on the left side, I treat all values on the left side as -INF, so as **nums[mid]**. \n",
    "            \n",
    "\t\t    If **mid** pointer are on the right side, I treat all values on the right side as +INF, so as **nums[mid]**\n",
    "            \n",
    "\t\t    And in both situations, The array is seen as an ascending array, so BS is available. \n",
    "            \n",
    "2. Time complexity\n",
    "The complexity of my algorithm is the same as normal binary search, $O(\\log(N))$."
   ]
  }
 ],
 "metadata": {
  "kernelspec": {
   "display_name": "Python 3.8.10 64-bit",
   "language": "python",
   "name": "python3"
  },
  "language_info": {
   "codemirror_mode": {
    "name": "ipython",
    "version": 3
   },
   "file_extension": ".py",
   "mimetype": "text/x-python",
   "name": "python",
   "nbconvert_exporter": "python",
   "pygments_lexer": "ipython3",
   "version": "3.8.10"
  },
  "orig_nbformat": 4,
  "vscode": {
   "interpreter": {
    "hash": "916dbcbb3f70747c44a77c7bcd40155683ae19c65e1c03b4aa3499c5328201f1"
   }
  }
 },
 "nbformat": 4,
 "nbformat_minor": 2
}

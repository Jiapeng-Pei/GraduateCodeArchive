{
 "cells": [
  {
   "cell_type": "markdown",
   "metadata": {},
   "source": [
    "# Module 1 Problem Set\n",
    "## __Jiapeng Pei S014xxxx__\n",
    "\n",
    "\n",
    "### 1. $b$\n",
    "This procedure is NOT an algorithm, since it doesn't terminate.\n",
    "\n",
    "\n",
    "### 2. $a$\n",
    "This procedure is an algorithm, $i$ is increasing and eventually the if condition will evalute as true, then this procedure will halt.\n",
    "\n",
    "\n",
    "### 3. $c$\n",
    "It is not possible to decide of this procedure is an algorithm. I need to know whether the **external_procedure** is an algorithm or not. If it is, then the current procedure is an algorithm, otherwise it's not.\n",
    "\n",
    "\n",
    "### 4. $O(N^2)$\n",
    "Inside the inner loop, it takes $O(1)$ to complete the arithmetic operation, so the complexity of inner loop is $N * O(1) = O(N)$. Combined with the outter loop, the overall complexity is $N * (1 + O(N))$, which is $O(N^2)$.\n",
    "\n",
    "\n",
    "### 5. $O(N^2)$\n",
    "The outer loop iterates $N$ times.\n",
    "The inner loop iterate $N-1+ N-2 + N-3 + ... + 1 + 0 = N(N-1)/2$ times. So the overall complexity is $O(N(N-1)/2) = O(N^2)$.\n",
    "\n",
    "\n",
    "### 6. $O(N)$\n",
    "The outer loop iterates $N$ times. Each time the inner loop iterates $M$ times. Since $M$ is a constant value, the overall complexity is $O(M * N)$ which equals to $O(N)$.\n",
    "\n",
    "\n",
    "### 7. "
   ]
  },
  {
   "cell_type": "code",
   "execution_count": 1,
   "metadata": {},
   "outputs": [
    {
     "name": "stdout",
     "output_type": "stream",
     "text": [
      "The result of 2^11 is: 2048\n",
      "The result of 12^4 is: 20736\n"
     ]
    }
   ],
   "source": [
    "def pow(x, m):\n",
    "    ret = 1;\n",
    "    while (m):\n",
    "        if (m % 2):\n",
    "            ret *= x;\n",
    "        x *= x;\n",
    "        m >>= 1;\n",
    "    return ret;\n",
    "\n",
    "print('The result of 2^11 is:', pow(2, 11))\n",
    "print('The result of 12^4 is:', pow(12, 4))"
   ]
  },
  {
   "cell_type": "markdown",
   "metadata": {},
   "source": [
    "#### 1. Proof sketch\n",
    "  - $x^m$ = $x^{m_1}$ * $x^{m_2}$, where $m_1+m_2=m$. I will split $x^m$ into smaller parts and multiple them together.\n",
    "  - I treat m as a binary number so $(m)_2$ equals to the sum of values in each digits of it, and $x^m$ equals to the multuple of values in each digits of it. For example:\n",
    "  \n",
    "    $10 = (1010)_2 = 8*1 + 4*0 + 2*1 + 1*0$\n",
    "    \n",
    "    $x^{10} = x^{(1010)_2} = (x^8)^1 * (x^4)^0 * (x^2)^1 * (x^1)^0$\n",
    "    \n",
    "  - Since my code merely translates previous 2 steps into Python, it is right.\n",
    "\n",
    "#### 2. Complexity\n",
    "  The binary presentation of number m have a length of $\\log(m)$. In my algorithm, I iterate every bits of the binary presentation. So the overall complexity is $O(\\log(m))$.\n"
   ]
  },
  {
   "cell_type": "code",
   "execution_count": 14,
   "metadata": {},
   "outputs": [
    {
     "name": "stdout",
     "output_type": "stream",
     "text": [
      "Find the rotate point of [5, 7, 8, 9, 27, 116, 1, 2, 3, 4]:  1\n"
     ]
    }
   ],
   "source": [
    "def findSmallest(nums):\n",
    "    left = 0\n",
    "    right = len(nums) - 1\n",
    "    while (nums[left] > nums[right]):\n",
    "        mid = left + (right - left) // 2\n",
    "\n",
    "        # mid is on the left side, and the rotate point is on the right of mid.\n",
    "        if (nums[mid] >= nums[left]):\n",
    "            left = mid + 1\n",
    "            \n",
    "        # mid is on the right side, and the rotate point is equal to or on the left of mid.\n",
    "        else:\n",
    "            right = mid\n",
    "            \n",
    "    return nums[left] \n",
    "\n",
    "print('Find the rotate point of [5, 7, 8, 9, 27, 116, 1, 2, 3, 4]: ', findSmallest([5, 7, 8, 9, 27, 116, 1, 2, 3, 4]))"
   ]
  },
  {
   "cell_type": "markdown",
   "metadata": {},
   "source": [
    "#### 1. Proof Sketch\n",
    "- We notice that this isn't a normal sorted array, so I cannot perform normal binary search(BS). But I could halve the search space of the array in each iteration, here is how I do it:\n",
    "\n",
    "- Suppose we have a array called **nums**, There are two \"sides\" of this array since it is rotated. The left side is bigger and the right side is smaller. Both sides are ascending. The **left** and **right** pointers are initially on different sides. My job is move the **left** pointer so that is points to the first element on the right side. Following are the cases:\n",
    "\n",
    "    1. **left** and **right** are on different sides and the **mid** pointer is on the left side. In this case, the rotate point is on the right of mid. Move left to the right of mid. (left = mid + 1)\n",
    "\n",
    "    2. **left** and **right** are on different sides and the **mid** pointer is on the right side. In this case, the rotate point is equal to or on the left of mid. Make right equals to mid.\n",
    "    \n",
    "    3. **left** and **right** are on the same side. Return the value on the left. \n",
    "    \n",
    "- Since in every case, my algorithm approaches without missing the answer. It terminates reaching the result. It is correct.\n",
    "\n",
    "#### 2. Time complexity\n",
    "Since my algorithm halve the search space of the array every time, just like normal BS, its complexity is $O(\\log(N))$."
   ]
  }
 ],
 "metadata": {
  "kernelspec": {
   "display_name": "Python 3.8.10 64-bit",
   "language": "python",
   "name": "python3"
  },
  "language_info": {
   "codemirror_mode": {
    "name": "ipython",
    "version": 3
   },
   "file_extension": ".py",
   "mimetype": "text/x-python",
   "name": "python",
   "nbconvert_exporter": "python",
   "pygments_lexer": "ipython3",
   "version": "3.8.10"
  },
  "orig_nbformat": 4,
  "vscode": {
   "interpreter": {
    "hash": "916dbcbb3f70747c44a77c7bcd40155683ae19c65e1c03b4aa3499c5328201f1"
   }
  }
 },
 "nbformat": 4,
 "nbformat_minor": 2
}

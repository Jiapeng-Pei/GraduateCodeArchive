{
 "cells": [
  {
   "cell_type": "markdown",
   "metadata": {},
   "source": [
    "# Module 1 Problem Set\n",
    "## __Jiapeng Pei S014xxxx__\n",
    "\n",
    "\n",
    "### 1. b)\n",
    "This procedure is NOT an algorithm, since it doesn't terminate.\n",
    "\n",
    "\n",
    "### 2. a)\n",
    "This procedure is an algorithm, since eventually the if condition will evalutes as true, and this procedure halts.\n",
    "\n",
    "\n",
    "### 3. c)\n",
    "It is not possible to decide of this procedure is an algorithm. I need to know whether the **external_procedure** is an algorithm or not. If it is, then the current procedure is an algorithm, otherwise it's not.\n",
    "\n",
    "\n",
    "### 4. O($N^2$)\n",
    "Inside the inner loop, it takes O(1) to complete the arithmetic operation, so the complexity of inner loop is N * O(1) = O(N). Combined with the outter loop, the overall complexity is N * (1 + O(N)), which is O($N^2$).\n",
    "\n",
    "\n",
    "### 5. O($N^2$)\n",
    "The outer loop iterates N times.\n",
    "The inner loop iterate N-1 + N-2 + N-3 + ... + 1 + 0 = N(N-1)/2 times. So the overall complexity is O(N(N-1)/2) = O($N^2$).\n",
    "\n",
    "\n",
    "### 6. O(N)\n",
    "The outer loop iterates N times. Each time the inner loop iterates M times. Since M is a constant value, the overall complexity is O(M * N) = O(N).\n",
    "\n",
    "\n",
    "### 7. "
   ]
  },
  {
   "cell_type": "code",
   "execution_count": 6,
   "metadata": {},
   "outputs": [
    {
     "name": "stdout",
     "output_type": "stream",
     "text": [
      "The result of 2^3 is:  8\n",
      "The result of 12^4 is:  20736\n"
     ]
    }
   ],
   "source": [
    "def pow(x, m):\n",
    "    ret = 1;\n",
    "    while (m):\n",
    "        if (m % 2):\n",
    "            ret *= x;\n",
    "        x *= x;\n",
    "        m >>= 1;\n",
    "    return ret;\n",
    "\n",
    "print('The result of 2^3 is:', pow(2, 3))\n",
    "print('The result of 12^4 is:', pow(12, 4))"
   ]
  },
  {
   "cell_type": "markdown",
   "metadata": {},
   "source": [
    "1. Proof sketch\n",
    "  - $x^m$ = $x^{m0}$ + $x^{m1}$, where m1 + m2 = m.\n",
    "  - I treat m as a binary number in order to split m into smaller parts. For example:\n",
    "    $x^{10}$ = $x^8$ * $x^2$\n",
    "    \n",
    "2. The binary representation of number m have a length of $\\log(m)$. In my algorithm, I iterate every bits of the binary representation. So the overall complexity is O($\\log(M)$)\n",
    "\n",
    "\n",
    "### 8."
   ]
  },
  {
   "cell_type": "code",
   "execution_count": 7,
   "metadata": {},
   "outputs": [
    {
     "ename": "SyntaxError",
     "evalue": "invalid syntax (2629359039.py, line 12)",
     "output_type": "error",
     "traceback": [
      "\u001b[0;36m  Input \u001b[0;32mIn [7]\u001b[0;36m\u001b[0m\n\u001b[0;31m    elif (nums[mid])\u001b[0m\n\u001b[0m                    ^\u001b[0m\n\u001b[0;31mSyntaxError\u001b[0m\u001b[0;31m:\u001b[0m invalid syntax\n"
     ]
    }
   ],
   "source": [
    "def findTarget(nums, target):\n",
    "    left = 0\n",
    "    right = len(list)\n",
    "    while (left < right):\n",
    "        mid = left + (right - left) / 2;\n",
    "        midVal = 0;\n",
    "        if (nums[left] < nums[right]):\n",
    "            midVal = nums[mid]\n",
    "        else:\n",
    "            if ((nums[mid] - nums[left]) * (target - nums[mid]) > 0):\n",
    "                midVal = nums[mid]\n",
    "            elif (nums[mid])\n",
    "                "
   ]
  },
  {
   "cell_type": "markdown",
   "metadata": {},
   "source": [
    "1. Proof Sketch\n",
    "- We notice that this isn't a normal sorted array, so I cannot perform normal binary search(BS). If I can treat this array as a sorted array, I could use BS. In the following section, I will prove that It is possible to perform BS on this array.\n",
    "\n",
    "- Suppose we have a array called **nums**, There are two \"sides\" of this array since it is rotated. The left side is bigger and the right side is smaller. Both sides are ascending. I am going to perform BS on this array and following are the cases:\n",
    "\n",
    "    1. The **left** and **right** pointers are on the same side. This situation is the same as a normal BS.\n",
    "\n",
    "    2. The **left** and **right** pointers are on different sides. There are 2 sub cases:\n",
    "\t    1. **mid** pointer and **target** value are on the same side. Same as normal BS.\n",
    "\t\t\n",
    "\t    2. **mid** pointer and **target** value are on different sides. \n",
    "        \n",
    "\t\t    If **mid** pointer are on the left side, I treat all values on the left side as -INF, so as **nums[mid]**. \n",
    "            \n",
    "\t\t    If mid pointer are on the right side, I treat all values on the right side as +INF, so as **nums[mid]**\n",
    "            \n",
    "\t\t    And in both situations, I treat the array as an ascending array, so BS is available. \n",
    "            \n",
    "2. Time complexity\n",
    "The complexity of my algorithm is the same as normal binary search, O(log2N)."
   ]
  }
 ],
 "metadata": {
  "kernelspec": {
   "display_name": "Python 3.8.10 64-bit",
   "language": "python",
   "name": "python3"
  },
  "language_info": {
   "codemirror_mode": {
    "name": "ipython",
    "version": 3
   },
   "file_extension": ".py",
   "mimetype": "text/x-python",
   "name": "python",
   "nbconvert_exporter": "python",
   "pygments_lexer": "ipython3",
   "version": "3.8.10"
  },
  "orig_nbformat": 4,
  "vscode": {
   "interpreter": {
    "hash": "916dbcbb3f70747c44a77c7bcd40155683ae19c65e1c03b4aa3499c5328201f1"
   }
  }
 },
 "nbformat": 4,
 "nbformat_minor": 2
}

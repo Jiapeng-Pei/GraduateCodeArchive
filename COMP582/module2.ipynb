{
 "cells": [
  {
   "cell_type": "markdown",
   "metadata": {},
   "source": [
    "# Mudule2 Problem Set\n",
    "## __Jiapeng Pei S01435611__\n",
    "\n",
    "### 1. $O(M)$\n",
    "  - For pop operations, the complexity is $O(1)$.\n",
    "  - For push operations when the stack is not full, the complexity is $O(1)$.\n",
    "  - For push operations when the stack is full, where N is the size of the stack. We have: \n",
    "  \n",
    "    $T_{copy}(N) = 1 + 3 + 9 + ... + N $\n",
    "    $= 1 + 3(1 + 3 + ... + N/3)$\n",
    "    $= 1 + 3T_{copy}(N/3)$\n",
    "    $= 1 + 3 + 9T_{copy}(N/9)$\n",
    "    \n",
    "    Further reduce the above equation, we have:\n",
    "\n",
    "    $T_{copy}(N) = 1 + 3 + ... + 3^kT_{copy}(1)$, where $3^k = N$, $T_{copy}(1) = 1$. So:\n",
    "    $T_{copy}(N) = (1 - 3^k) / (1 - 3) = (N - 1) / 2$ \n",
    "    \n",
    "    (Got Geometric Progression Sum foluma from https://en.wikipedia.org/wiki/Geometric_progression)\n",
    "\n",
    "    So for a stream of M operations, \n",
    "\n",
    "    $T_{push}(M) = 2M + (M-1)/2 = O(M)$\n",
    "    $T_{pop}(M) = M = O(M)$\n",
    "\n",
    "  - In conclusion. the overall complexity is $O(M)$.\n",
    "\n",
    "\n",
    "### 2. $O(M)$\n",
    "  - Similar to Question 1, the time-consuming operation is copy. Following is its time complexity:\n",
    "\n",
    "    $T_{copy}(N) = 1 + 11 + 121 + ... + N$\n",
    "    $= 1 + 11(1 + 11 + ... + N/11)$\n",
    "    $= 1 + 11T_{copy}(N/11)$\n",
    "\n",
    "    $T_{copy}(N) = 1 + 11 + ... + 11^kT_{copy}(1)$, where $11^k = N$, $T_{copy}(1) = 1$. So:\n",
    "    $T_{copy}(N) = (1 - 11^k) / (1 - 11) = (N - 1) / 10$ \n",
    "\n",
    "    - So for a stream of M operations, \n",
    "\n",
    "    $T_{push}(M) = 2M + (M-1)/10 = O(M)$\n",
    "    $T_{pop}(M) = M = O(M)$\n",
    "\n",
    "  - In conclusion, the overall complexity is $O(M)$.\n",
    "\n",
    "  \n",
    "### 3. pic\n",
    "\n",
    "\n",
    "### 4. Impossible.\n",
    "  #### Prove 1\n",
    "  From the graph we can find that tree No.2 is the \"father\" of 3 subtrees, including tree No.1 of size 1, tree No.4 of size 3 and tree No.7 of size 5. \n",
    "  - Suppose there exists a valid sequence of operations that produce the current tree. \n",
    "  - We must union tree No.1 with tree No.2 at first, since only its size is not bigger than tree No.2. This makes the size of tree No.2 equal to 2.\n",
    "  - Either size of tree No.4 or that of tree No.5 is bigger than 2. So in next union operation, tree No.2 won't be a union target. This controdicts the current tree. \n",
    "  - So the assumption is false. There is no possible sequence.\n",
    "\n",
    "  #### Prove 2\n",
    "  In a set with N nodes constructed by running weighted quick union, the height of the root is at most $\\log_2(N)$. \n",
    "  - Every time we merge 2 sets, The size of the merge target becomes at most twice as large as before, and in this case its height increases by 1. Suppose the height of this set is $h$, and there are at most $h^2$ (or $N$) elements in the set. So the height is at most $\\log_2(N)$.\n",
    "  - But in Q3's case, the height of the set is $5$, which is bigger than $\\log_2(10)$. So it is impossible. \n",
    "\n",
    "### 5. $O(N + M\\log^*(N))$. \n",
    "  Suppose there are $N$ add_new_set operations and $M$ union/find operations. A single add_new_set operations takes $O(1)$, and all add_new_set operations take $O(N)$. In worst cases the size of our set is $N$ when performing $M$ union/find operations. For a weighted quick union-set with path compression, it takes $O(Mlog^*(N))$.\n",
    "\n",
    "  \n",
    "  So the complexity will be $O(N + M\\log^*(N))$. \n",
    "  \n",
    "\n"
   ]
  },
  {
   "cell_type": "markdown",
   "metadata": {},
   "source": []
  }
 ],
 "metadata": {
  "kernelspec": {
   "display_name": "Python 3.8.10 64-bit",
   "language": "python",
   "name": "python3"
  },
  "language_info": {
   "name": "python",
   "version": "3.8.10"
  },
  "orig_nbformat": 4,
  "vscode": {
   "interpreter": {
    "hash": "916dbcbb3f70747c44a77c7bcd40155683ae19c65e1c03b4aa3499c5328201f1"
   }
  }
 },
 "nbformat": 4,
 "nbformat_minor": 2
}
